{
 "cells": [
  {
   "cell_type": "code",
   "execution_count": 1,
   "id": "314cb911",
   "metadata": {},
   "outputs": [],
   "source": [
    "questions = [\n",
    "    \"What common complaints do customers have about credit cards?\",\n",
    "    \"Are there issues related to money transfers being delayed?\",\n",
    "    \"What problems are users facing with personal loans?\",\n",
    "    \"Do customers complain about interest rates on savings accounts?\",\n",
    "    \"Is there any mention of fraud or scams in BNPL services?\",\n",
    "]\n"
   ]
  }
 ],
 "metadata": {
  "kernelspec": {
   "display_name": "venv",
   "language": "python",
   "name": "python3"
  },
  "language_info": {
   "codemirror_mode": {
    "name": "ipython",
    "version": 3
   },
   "file_extension": ".py",
   "mimetype": "text/x-python",
   "name": "python",
   "nbconvert_exporter": "python",
   "pygments_lexer": "ipython3",
   "version": "3.13.5"
  }
 },
 "nbformat": 4,
 "nbformat_minor": 5
}
